{
 "cells": [
  {
   "cell_type": "markdown",
   "id": "c3fd1118",
   "metadata": {},
   "source": [
    "### Requirements/Libraries\n"
   ]
  },
  {
   "cell_type": "code",
   "execution_count": 1,
   "id": "3dad3931",
   "metadata": {},
   "outputs": [],
   "source": [
    "from rdflib import Graph\n",
    "from rdflib import URIRef, BNode, Literal\n",
    "from rdflib import Namespace\n",
    "from rdflib.namespace import OWL, RDF, RDFS, FOAF, XSD\n",
    "import csv\n",
    "import pandas as pd"
   ]
  },
  {
   "cell_type": "markdown",
   "id": "af895154",
   "metadata": {},
   "source": [
    "## Examples\n",
    "### Loads a graph in a format and stores in a different format"
   ]
  },
  {
   "cell_type": "code",
   "execution_count": 3,
   "id": "1d8f2e4d",
   "metadata": {},
   "outputs": [
    {
     "name": "stdout",
     "output_type": "stream",
     "text": [
      "The graph contains '20' triples.\n",
      "Saving graph to 'beatles.rdf'\n"
     ]
    }
   ],
   "source": [
    "g = Graph()\n",
    "g.parse(\"./data/beatles.ttl\", format=\"ttl\")\n",
    "\n",
    "print(\"The graph contains '\" + str(len(g)) + \"' triples.\")\n",
    "    \n",
    "#for s, p, o in g:\n",
    "#    print((s.n3(), p.n3(), o.n3()))\n",
    "    \n",
    "print(\"Saving graph to 'beatles.rdf'\")\n",
    "g.serialize(destination='beatles.rdf', format='xml')"
   ]
  },
  {
   "cell_type": "markdown",
   "id": "85d2e8ff",
   "metadata": {},
   "source": [
    "### Creates triples"
   ]
  },
  {
   "cell_type": "code",
   "execution_count": 9,
   "id": "fa537163",
   "metadata": {},
   "outputs": [
    {
     "name": "stdout",
     "output_type": "stream",
     "text": [
      "Saving graph to 'RC-TP2_example_rdflib.ttl':\n",
      "@prefix ciencias: <http://www.example.org/university/ulisboa/ciencias#> .\n",
      "@prefix dbpo: <https://dbpedia.org/ontology/> .\n",
      "@prefix foaf: <http://xmlns.com/foaf/0.1/> .\n",
      "@prefix rdf: <http://www.w3.org/1999/02/22-rdf-syntax-ns#> .\n",
      "@prefix rdfs: <http://www.w3.org/2000/01/rdf-schema#> .\n",
      "@prefix xsd: <http://www.w3.org/2001/XMLSchema#> .\n",
      "\n",
      "ciencias:Professor rdfs:subClassOf foaf:Person .\n",
      "\n",
      "ciencias:catia a ciencias:Professor ;\n",
      "    ciencias:teaches ciencias:kg ;\n",
      "    foaf:name \"Catia Pesquita\"^^xsd:string .\n",
      "\n",
      "ciencias:kg a ciencias:Course .\n",
      "\n",
      "[] a rdf:Statement ;\n",
      "    rdf:object ciencias:kg ;\n",
      "    rdf:predicate ciencias:teaches ;\n",
      "    rdf:subject ciencias:catia ;\n",
      "    dbpo:year \"2024-01-01\"^^xsd:gYear .\n",
      "\n",
      "\n"
     ]
    }
   ],
   "source": [
    "#Empty graph\n",
    "g = Graph()\n",
    "\n",
    "#Special namspaces to create  \n",
    "ciencias = Namespace(\"http://www.example.org/university/ulisboa/ciencias#\")\n",
    "dbpo = Namespace(\"https://dbpedia.org/ontology/\")\n",
    "   \n",
    "#Prefixes\n",
    "g.bind(\"foaf\", FOAF) #FOAF is given as defaulty namespace\n",
    "g.bind(\"ciencias\", ciencias) #ciencias is a newly created namespace\n",
    "g.bind(\"dbpo\", dbpo) #dbpo is a newly created namespace \n",
    "\n",
    "#These lines are equivalent:\n",
    "#catia = URIRef(\"http://www.example.org/universityulisboa/ciencias#catia\")\n",
    "#ciencias.catia\n",
    "\n",
    "#print(ciencias.catia)\n",
    "\n",
    "bnode = BNode()  # a GUID is generated\n",
    "\n",
    "name = Literal('Catia Pesquita', datatype=XSD.string)  # lang=\"en\" for language tags\n",
    "year = Literal('2024', datatype=XSD.gYear)  # lang=\"en\" for language tags\n",
    "   \n",
    "\n",
    "g.add((ciencias.kg, RDF.type, ciencias.Course))\n",
    "g.add((ciencias.catia, RDF.type, ciencias.Professor))\n",
    "    \n",
    "g.add((ciencias.Professor, RDFS.subClassOf, FOAF.Person))\n",
    "    \n",
    "g.add((ciencias.catia, FOAF.name, name))\n",
    "g.add((ciencias.catia, ciencias.teaches, ciencias.kg))\n",
    "\n",
    "g.add((bnode, RDF.type, RDF.Statement ))\n",
    "g.add((bnode, RDF.subject, ciencias.catia ))\n",
    "g.add((bnode, RDF.predicate, ciencias.teaches))\n",
    "g.add((bnode, RDF.object, ciencias.kg ))\n",
    "g.add((bnode, dbpo.year, year ))\n",
    "\n",
    "\n",
    "print(\"Saving graph to 'RC-TP2_example_rdflib.ttl':\")\n",
    "\n",
    "print(g.serialize(format=\"turtle\").decode(\"utf-8\"))\n",
    "#print(g.serialize(format=\"turtle\")\n",
    "#.decode(\"utf-8\") seems to fail for some (windows) users. Remove if giving problems.\n",
    "\n",
    "g.serialize(destination='./data/RC-TP2_example_rdflib.ttl', format='ttl')"
   ]
  },
  {
   "cell_type": "code",
   "execution_count": 31,
   "id": "7c526e1b",
   "metadata": {},
   "outputs": [],
   "source": [
    "file=\"./data/movies.csv\""
   ]
  },
  {
   "cell_type": "markdown",
   "id": "a754f55b",
   "metadata": {},
   "source": [
    "### Load a CSV file with built in libary"
   ]
  },
  {
   "cell_type": "code",
   "execution_count": 32,
   "id": "c34900fe",
   "metadata": {},
   "outputs": [
    {
     "name": "stdout",
     "output_type": "stream",
     "text": [
      "['Movie', 'Year', 'Director']\n",
      "['Dune', '2021', 'Denis Villeneuve']\n",
      "['Dune', '1984', 'David Lynch']\n",
      "['Blade Runner', '1982', 'Ridley Scott']\n",
      "['Strange Days', '1995', 'Kathryn Bigelow']\n",
      "['Interstellar', '2014', 'Christopher Nolan']\n"
     ]
    }
   ],
   "source": [
    "with open(file) as csv_file:\n",
    "       \n",
    "    csv_reader = csv.reader(csv_file, delimiter=',', quotechar='\"', escapechar=\"\\\\\")\n",
    "    \n",
    "    #previous_key=\"\"\n",
    "      \n",
    "    for row in csv_reader:\n",
    "        print(row)"
   ]
  },
  {
   "cell_type": "markdown",
   "id": "4665a9a0",
   "metadata": {},
   "source": [
    "### Load a CSV file with Pandas"
   ]
  },
  {
   "cell_type": "code",
   "execution_count": 33,
   "id": "141db9b4",
   "metadata": {},
   "outputs": [
    {
     "name": "stdout",
     "output_type": "stream",
     "text": [
      "Dune\n",
      "Dune\n",
      "Blade Runner\n",
      "Strange Days\n",
      "Interstellar\n",
      "MovieInfo(Index=0, Movie='Dune', Year=2021, Director='Denis Villeneuve')\n",
      "Dune Denis Villeneuve\n",
      "MovieInfo(Index=1, Movie='Dune', Year=1984, Director='David Lynch')\n",
      "Dune David Lynch\n",
      "MovieInfo(Index=2, Movie='Blade Runner', Year=1982, Director='Ridley Scott')\n",
      "Blade Runner Ridley Scott\n",
      "MovieInfo(Index=3, Movie='Strange Days', Year=1995, Director='Kathryn Bigelow')\n",
      "Strange Days Kathryn Bigelow\n",
      "MovieInfo(Index=4, Movie='Interstellar', Year=2014, Director='Christopher Nolan')\n",
      "Interstellar Christopher Nolan\n"
     ]
    }
   ],
   "source": [
    "data_frame = pd.read_csv(file, sep=',', quotechar='\"',escapechar=\"\\\\\")    \n",
    "   \n",
    "for cell in data_frame['Movie']:\n",
    "    print(cell)\n",
    "\n",
    "for row in data_frame.itertuples(index=True, name='MovieInfo'):\n",
    "    print(row)\n",
    "    print(row[1], row[3])"
   ]
  },
  {
   "cell_type": "markdown",
   "id": "a4d911aa",
   "metadata": {},
   "source": [
    "## Tasks\n",
    "### Task 2.3\n",
    "\n",
    "Using RDFLib create:\n",
    "- an entity that represents yourself of type \\texttt{foaf:Person}.\n",
    "- Triples for your name and surname.\n",
    "- Triples for your city and country of birth.\n",
    "-  Triple(s) with the list of languages you speak.\n",
    "\n",
    "\n",
    "Tips:\n",
    "- Select a suitable namespace for your entities.\n",
    " - Define prefixes.\n",
    "- Reuse vocabulary if possible (\\eg \\url{http://dbpedia.org/resource/Spain}, \\url{https://dbpedia.org/ontology/birthPlace}, \\url{http://xmlns.com/foaf/0.1/name}).\n",
    "- Give a \\textit{.ttl} extension to your created file."
   ]
  },
  {
   "cell_type": "code",
   "execution_count": null,
   "id": "637365cf",
   "metadata": {},
   "outputs": [],
   "source": []
  }
 ],
 "metadata": {
  "kernelspec": {
   "display_name": "Python 3 (ipykernel)",
   "language": "python",
   "name": "python3"
  },
  "language_info": {
   "codemirror_mode": {
    "name": "ipython",
    "version": 3
   },
   "file_extension": ".py",
   "mimetype": "text/x-python",
   "name": "python",
   "nbconvert_exporter": "python",
   "pygments_lexer": "ipython3",
   "version": "3.9.6"
  }
 },
 "nbformat": 4,
 "nbformat_minor": 5
}
