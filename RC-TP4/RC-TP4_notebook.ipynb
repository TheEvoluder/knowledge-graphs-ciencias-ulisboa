{
 "cells": [
  {
   "cell_type": "markdown",
   "id": "864adb31",
   "metadata": {},
   "source": [
    "### Requirements/Libraries\n"
   ]
  },
  {
   "cell_type": "code",
   "execution_count": 9,
   "id": "ac6e5308",
   "metadata": {},
   "outputs": [],
   "source": [
    "from rdflib import Graph\n",
    "from SPARQLWrapper import SPARQLWrapper, JSON"
   ]
  },
  {
   "cell_type": "markdown",
   "id": "237a67da",
   "metadata": {},
   "source": [
    "### Query local Nobel Prize dataset"
   ]
  },
  {
   "cell_type": "code",
   "execution_count": 21,
   "id": "c7fa4288",
   "metadata": {},
   "outputs": [
    {
     "ename": "FileNotFoundError",
     "evalue": "[Errno 2] No such file or directory",
     "output_type": "error",
     "traceback": [
      "\u001b[0;31m---------------------------------------------------------------------------\u001b[0m",
      "\u001b[0;31mFileNotFoundError\u001b[0m                         Traceback (most recent call last)",
      "Cell \u001b[0;32mIn[21], line 3\u001b[0m\n\u001b[1;32m      1\u001b[0m \u001b[38;5;66;03m#Loads KG\u001b[39;00m\n\u001b[1;32m      2\u001b[0m g \u001b[38;5;241m=\u001b[39m Graph()\n\u001b[0;32m----> 3\u001b[0m \u001b[43mg\u001b[49m\u001b[38;5;241;43m.\u001b[39;49m\u001b[43mparse\u001b[49m\u001b[43m(\u001b[49m\u001b[38;5;124;43m\"\u001b[39;49m\u001b[38;5;124;43mnobelprize_kg.nt\u001b[39;49m\u001b[38;5;124;43m\"\u001b[39;49m\u001b[43m,\u001b[49m\u001b[43m \u001b[49m\u001b[38;5;28;43mformat\u001b[39;49m\u001b[38;5;241;43m=\u001b[39;49m\u001b[38;5;124;43m\"\u001b[39;49m\u001b[38;5;124;43mnt\u001b[39;49m\u001b[38;5;124;43m\"\u001b[39;49m\u001b[43m)\u001b[49m\n\u001b[1;32m      5\u001b[0m \u001b[38;5;28mprint\u001b[39m(\u001b[38;5;124m\"\u001b[39m\u001b[38;5;124mLoaded \u001b[39m\u001b[38;5;124m'\u001b[39m\u001b[38;5;124m\"\u001b[39m \u001b[38;5;241m+\u001b[39m \u001b[38;5;28mstr\u001b[39m(\u001b[38;5;28mlen\u001b[39m(g)) \u001b[38;5;241m+\u001b[39m \u001b[38;5;124m\"\u001b[39m\u001b[38;5;124m'\u001b[39m\u001b[38;5;124m triples.\u001b[39m\u001b[38;5;124m\"\u001b[39m)\n\u001b[1;32m      7\u001b[0m \u001b[38;5;66;03m#Query with prefixes \u001b[39;00m\n",
      "File \u001b[0;32m~/Documents/GitHub/knowledge-graphs-ciencias-ulisboa/venv/lib/python3.9/site-packages/rdflib/graph.py:1062\u001b[0m, in \u001b[0;36mGraph.parse\u001b[0;34m(self, source, publicID, format, location, file, data, **args)\u001b[0m\n\u001b[1;32m    987\u001b[0m \u001b[38;5;28;01mdef\u001b[39;00m \u001b[38;5;21mparse\u001b[39m(\n\u001b[1;32m    988\u001b[0m     \u001b[38;5;28mself\u001b[39m,\n\u001b[1;32m    989\u001b[0m     source\u001b[38;5;241m=\u001b[39m\u001b[38;5;28;01mNone\u001b[39;00m,\n\u001b[0;32m   (...)\u001b[0m\n\u001b[1;32m    995\u001b[0m     \u001b[38;5;241m*\u001b[39m\u001b[38;5;241m*\u001b[39margs\n\u001b[1;32m    996\u001b[0m ):\n\u001b[1;32m    997\u001b[0m \u001b[38;5;250m    \u001b[39m\u001b[38;5;124;03m\"\"\"\u001b[39;00m\n\u001b[1;32m    998\u001b[0m \u001b[38;5;124;03m    Parse source adding the resulting triples to the Graph.\u001b[39;00m\n\u001b[1;32m    999\u001b[0m \n\u001b[0;32m   (...)\u001b[0m\n\u001b[1;32m   1059\u001b[0m \n\u001b[1;32m   1060\u001b[0m \u001b[38;5;124;03m    \"\"\"\u001b[39;00m\n\u001b[0;32m-> 1062\u001b[0m     source \u001b[38;5;241m=\u001b[39m \u001b[43mcreate_input_source\u001b[49m\u001b[43m(\u001b[49m\n\u001b[1;32m   1063\u001b[0m \u001b[43m        \u001b[49m\u001b[43msource\u001b[49m\u001b[38;5;241;43m=\u001b[39;49m\u001b[43msource\u001b[49m\u001b[43m,\u001b[49m\n\u001b[1;32m   1064\u001b[0m \u001b[43m        \u001b[49m\u001b[43mpublicID\u001b[49m\u001b[38;5;241;43m=\u001b[39;49m\u001b[43mpublicID\u001b[49m\u001b[43m,\u001b[49m\n\u001b[1;32m   1065\u001b[0m \u001b[43m        \u001b[49m\u001b[43mlocation\u001b[49m\u001b[38;5;241;43m=\u001b[39;49m\u001b[43mlocation\u001b[49m\u001b[43m,\u001b[49m\n\u001b[1;32m   1066\u001b[0m \u001b[43m        \u001b[49m\u001b[43mfile\u001b[49m\u001b[38;5;241;43m=\u001b[39;49m\u001b[43mfile\u001b[49m\u001b[43m,\u001b[49m\n\u001b[1;32m   1067\u001b[0m \u001b[43m        \u001b[49m\u001b[43mdata\u001b[49m\u001b[38;5;241;43m=\u001b[39;49m\u001b[43mdata\u001b[49m\u001b[43m,\u001b[49m\n\u001b[1;32m   1068\u001b[0m \u001b[43m        \u001b[49m\u001b[38;5;28;43mformat\u001b[39;49m\u001b[38;5;241;43m=\u001b[39;49m\u001b[38;5;28;43mformat\u001b[39;49m\u001b[43m,\u001b[49m\n\u001b[1;32m   1069\u001b[0m \u001b[43m    \u001b[49m\u001b[43m)\u001b[49m\n\u001b[1;32m   1070\u001b[0m     \u001b[38;5;28;01mif\u001b[39;00m \u001b[38;5;28mformat\u001b[39m \u001b[38;5;129;01mis\u001b[39;00m \u001b[38;5;28;01mNone\u001b[39;00m:\n\u001b[1;32m   1071\u001b[0m         \u001b[38;5;28mformat\u001b[39m \u001b[38;5;241m=\u001b[39m source\u001b[38;5;241m.\u001b[39mcontent_type\n",
      "File \u001b[0;32m~/Documents/GitHub/knowledge-graphs-ciencias-ulisboa/venv/lib/python3.9/site-packages/rdflib/parser.py:187\u001b[0m, in \u001b[0;36mcreate_input_source\u001b[0;34m(source, publicID, location, file, data, format)\u001b[0m\n\u001b[1;32m    185\u001b[0m \u001b[38;5;28;01mif\u001b[39;00m os\u001b[38;5;241m.\u001b[39mpath\u001b[38;5;241m.\u001b[39mexists(location):\n\u001b[1;32m    186\u001b[0m     location \u001b[38;5;241m=\u001b[39m pathname2url(location)\n\u001b[0;32m--> 187\u001b[0m base \u001b[38;5;241m=\u001b[39m urljoin(\u001b[38;5;124m\"\u001b[39m\u001b[38;5;124mfile:\u001b[39m\u001b[38;5;124m\"\u001b[39m, \u001b[38;5;124m\"\u001b[39m\u001b[38;5;132;01m%s\u001b[39;00m\u001b[38;5;124m/\u001b[39m\u001b[38;5;124m\"\u001b[39m \u001b[38;5;241m%\u001b[39m pathname2url(\u001b[43mos\u001b[49m\u001b[38;5;241;43m.\u001b[39;49m\u001b[43mgetcwd\u001b[49m\u001b[43m(\u001b[49m\u001b[43m)\u001b[49m))\n\u001b[1;32m    188\u001b[0m absolute_location \u001b[38;5;241m=\u001b[39m URIRef(location, base\u001b[38;5;241m=\u001b[39mbase)\u001b[38;5;241m.\u001b[39mdefrag()\n\u001b[1;32m    189\u001b[0m \u001b[38;5;28;01mif\u001b[39;00m absolute_location\u001b[38;5;241m.\u001b[39mstartswith(\u001b[38;5;124m\"\u001b[39m\u001b[38;5;124mfile:///\u001b[39m\u001b[38;5;124m\"\u001b[39m):\n",
      "\u001b[0;31mFileNotFoundError\u001b[0m: [Errno 2] No such file or directory"
     ]
    }
   ],
   "source": [
    "#Loads KG\n",
    "g = Graph()\n",
    "g.parse(\"nobelprize_kg.nt\", format=\"nt\")\n",
    "  \n",
    "print(\"Loaded '\" + str(len(g)) + \"' triples.\")\n",
    "\n",
    "#Query with prefixes \n",
    "nobelprize_query = \"\"\"\n",
    "PREFIX nobel: <http://data.nobelprize.org/terms/>\n",
    "PREFIX foaf: <http://xmlns.com/foaf/0.1/>\n",
    "PREFIX rdfs: <http://www.w3.org/2000/01/rdf-schema#>\n",
    "PREFIX rdf: <http://www.w3.org/1999/02/22-rdf-syntax-ns#>\n",
    "SELECT DISTINCT ?name_laur WHERE { \n",
    "?laur rdf:type nobel:Laureate . \n",
    "?laur rdfs:label ?name_laur . \n",
    "?laur foaf:gender \"female\" . }\n",
    "\"\"\"\n",
    "\n",
    "qres = g.query(nobelprize_query)\n",
    "\n",
    "print(\"Female laureates (printing 10):\")\n",
    "i=0\n",
    "for row in qres:\n",
    "    #Row is a list of matched RDF terms: URIs, literals or blank nodes\n",
    "    i+=1\n",
    "    print(\"'%s'\" % (str(row.name_laur))) #Same name as in sparql query SELECT variable\n",
    "    if i==10:\n",
    "        break"
   ]
  },
  {
   "cell_type": "markdown",
   "id": "50b33b3e",
   "metadata": {},
   "source": [
    "\n",
    "### Query remote dataset via SPARQL Enpoint"
   ]
  },
  {
   "cell_type": "code",
   "execution_count": 6,
   "id": "a2cee1e5",
   "metadata": {},
   "outputs": [
    {
     "name": "stdout",
     "output_type": "stream",
     "text": [
      "Stars co-starring Johnny Depp (limit to 10):\n",
      "\n",
      "Abigail Breslin\n",
      "Aidan Quinn\n",
      "Al Pacino\n",
      "Alain Chabat\n",
      "Alan Arkin\n",
      "Albert Tsai\n",
      "Aleksandr Kuznetsov\n",
      "Alfred Molina\n",
      "Alison Sudol\n"
     ]
    }
   ],
   "source": [
    "#Remote service\n",
    "endpoint_url = \"http://dbpedia.org/sparql\"\n",
    "sparqlw = SPARQLWrapper(endpoint_url)\n",
    "sparqlw.setReturnFormat(JSON)\n",
    "\n",
    "\n",
    "query = \"\"\"\n",
    "PREFIX foaf: <http://xmlns.com/foaf/0.1/> \n",
    "PREFIX dbo: <http://dbpedia.org/ontology/> \n",
    "SELECT DISTINCT ?x WHERE { \n",
    "?jd foaf:name \\\"Johnny Depp\\\"@en . \n",
    "?m dbo:starring ?jd .\n",
    "?m dbo:starring ?other . \n",
    "?other foaf:name ?x . \n",
    "FILTER (STR(?x)!=\\\"Johnny Depp\\\")\n",
    "} \n",
    "ORDER BY ?x\n",
    "LIMIT 10\n",
    "\"\"\"\n",
    "\n",
    "sparqlw.setQuery(query)\n",
    "\n",
    "results = sparqlw.query().convert()\n",
    "\n",
    "#Prints JSON file\n",
    "#print(results)   \n",
    "\n",
    "print(\"Stars co-starring Johnny Depp (limit to 10):\")\n",
    "i=0\n",
    "for result in results[\"results\"][\"bindings\"]:\n",
    "    i+=1\n",
    "    #Prints individual results \n",
    "    print(result[\"x\"][\"value\"])\n",
    "  "
   ]
  },
  {
   "cell_type": "code",
   "execution_count": null,
   "id": "0d5ff76f",
   "metadata": {},
   "outputs": [],
   "source": []
  }
 ],
 "metadata": {
  "kernelspec": {
   "display_name": "Python 3 (ipykernel)",
   "language": "python",
   "name": "python3"
  },
  "language_info": {
   "codemirror_mode": {
    "name": "ipython",
    "version": 3
   },
   "file_extension": ".py",
   "mimetype": "text/x-python",
   "name": "python",
   "nbconvert_exporter": "python",
   "pygments_lexer": "ipython3",
   "version": "3.9.6"
  }
 },
 "nbformat": 4,
 "nbformat_minor": 5
}
