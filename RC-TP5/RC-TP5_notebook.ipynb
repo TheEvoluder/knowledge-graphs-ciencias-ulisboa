{
 "cells": [
  {
   "cell_type": "markdown",
   "id": "66db4962",
   "metadata": {},
   "source": [
    "### Dependencies"
   ]
  },
  {
   "cell_type": "code",
   "execution_count": 3,
   "id": "98ae7b87",
   "metadata": {},
   "outputs": [
    {
     "name": "stderr",
     "output_type": "stream",
     "text": [
      "/Users/cpesquita/Documents/GitHub/knowledge-graphs-ciencias-ulisboa/venv/lib/python3.9/site-packages/rdflib_jsonld/__init__.py:9: DeprecationWarning: The rdflib-jsonld package has been integrated into rdflib as of rdflib==6.0.1.  Please remove rdflib-jsonld from your project's dependencies.\n",
      "  warnings.warn(\n"
     ]
    }
   ],
   "source": [
    "from rdflib import Graph\n",
    "import owlrl"
   ]
  },
  {
   "cell_type": "markdown",
   "id": "ddf23066",
   "metadata": {},
   "source": [
    "### Reasoning with RDFS Semantics"
   ]
  },
  {
   "cell_type": "code",
   "execution_count": 7,
   "id": "722cc882",
   "metadata": {},
   "outputs": [
    {
     "name": "stdout",
     "output_type": "stream",
     "text": [
      "Loaded '30' triples.\n",
      "Rules after inference: '215' triples.\n",
      "\n",
      "Checking entailments: \n",
      "Does ':Father rdfs:subClassOf :Person .' hold? True\n",
      "Does ':Woman rdfs:subClassOf :Person .' hold? True\n",
      "Does ':Juliet a :Person .' hold? True\n",
      "Does ':Ann a :Child .' hold? False\n",
      "Does ':Ann :isChildOf :Carl .' hold? False\n",
      "Does ':Ann :hasParent :Juliet .' hold? True\n",
      "Does 'rdfs:range rdf:type rdfs:Resource .' hold? True\n",
      "Does ':Mother rdfs:subClassOf :Person .' hold? True\n",
      "Saving extended graph\n"
     ]
    }
   ],
   "source": [
    "#function for checking the entailments\n",
    "def checkEntailments(g):\n",
    "    \n",
    "    print(\"\\nChecking entailments: \")\n",
    "    \n",
    "    triple1 = \":Father rdfs:subClassOf :Person .\" \n",
    "    triple2 = \":Woman rdfs:subClassOf :Person .\"\n",
    "    triple3 = \":Juliet a :Person .\"\n",
    "    triple4 = \":Ann a :Child .\"\n",
    "    triple5 = \":Ann :isChildOf :Carl .\"\n",
    "    triple6 = \":Ann :hasParent :Juliet .\"\n",
    "    triple7 = \"rdfs:range rdf:type rdfs:Resource .\"\n",
    "    triple8 = \":Mother rdfs:subClassOf :Person .\"\n",
    "    \n",
    "    \n",
    "    checkEntailment(g, triple1)\n",
    "    checkEntailment(g, triple2)\n",
    "    checkEntailment(g, triple3)\n",
    "    checkEntailment(g, triple4)\n",
    "    checkEntailment(g, triple5)\n",
    "    checkEntailment(g, triple6)\n",
    "    checkEntailment(g, triple7)\n",
    "    checkEntailment(g, triple8)\n",
    "    \n",
    "    \n",
    " #Check an individual entailemtn. We use an ASK query instead of a select. It could be done with SELETCT and then checking that the results are not empty     \n",
    "def checkEntailment(g, triple):\n",
    "    \n",
    "    qres = g.query(\n",
    "    \"\"\"ASK {\"\"\" + triple + \"\"\" }\"\"\")\n",
    "\n",
    "    #Single row with one boolean vale\n",
    "    for row in qres:\n",
    "        print(\"Does '\" + triple + \"' hold? \" + str(row))\n",
    "\n",
    "\n",
    "\n",
    "#create an emtpy file to store the extended RDF version\n",
    "with open('RC-TP5-rdfs-extended.ttl', 'w') as f:\n",
    "    f.close()\n",
    "\n",
    "g1 = Graph()\n",
    "    \n",
    "g1.parse(\"RC-TP5-rdfs.ttl\", format=\"ttl\")    \n",
    "    \n",
    "print(\"Loaded '\" + str(len(g1)) + \"' triples.\")\n",
    "    \n",
    "#Performs RDFS reasoning: expands graph g1\n",
    "owlrl.DeductiveClosure(owlrl.RDFS_Semantics, axiomatic_triples=True, datatype_axioms=False).expand(g1)\n",
    "    \n",
    "print(\"Rules after inference: '\" + str(len(g1)) + \"' triples.\")\n",
    "    \n",
    "checkEntailments(g1)\n",
    "\n",
    "\n",
    "print(\"Saving extended graph\")\n",
    "g1.serialize(destination='RC-TP5-rdfs-extended.ttl', format='ttl')\n",
    "\n",
    "\n",
    "\n"
   ]
  },
  {
   "cell_type": "markdown",
   "id": "ac1b9fc1",
   "metadata": {},
   "source": [
    "### Reasoning with OWL 2 RL"
   ]
  },
  {
   "cell_type": "markdown",
   "id": "1870a2a6",
   "metadata": {},
   "source": [
    "Check the entailment for the following statements:\n",
    ":Juliet :hasChild :Ann .\n",
    ":Ann a :Child ."
   ]
  },
  {
   "cell_type": "code",
   "execution_count": 5,
   "id": "2fe76a20",
   "metadata": {},
   "outputs": [
    {
     "name": "stdout",
     "output_type": "stream",
     "text": [
      "Loaded '27' triples.\n",
      "Rules after inference: '1116' triples.\n",
      "Saving extended graph\n"
     ]
    }
   ],
   "source": [
    "#alter the code below to check the abovementioned statements (see examples above) \n",
    "\n",
    "#create an emtpy file to store the extended OWL version\n",
    "with open('RC-TP5-owl2rl-extended.ttl', 'w') as f:\n",
    "    f.close()\n",
    "\n",
    "g2 = Graph()\n",
    "    \n",
    "g2.parse(\"RC-TP5-owl2rl.ttl\", format=\"ttl\")\n",
    "    \n",
    "print(\"Loaded '\" + str(len(g2)) + \"' triples.\")\n",
    "    \n",
    "#Performs OWL 2 RL reasoning: expands graph g2\n",
    "owlrl.DeductiveClosure(owlrl.OWLRL_Semantics, axiomatic_triples=True, datatype_axioms=False).expand(g2)  \n",
    "    \n",
    "print(\"Rules after inference: '\" + str(len(g2)) + \"' triples.\")\n",
    "        \n",
    "print(\"Saving extended graph\")\n",
    "g2.serialize(destination='RC-TP5-owl2rl-extended.ttl', format='ttl')\n",
    "    "
   ]
  },
  {
   "cell_type": "code",
   "execution_count": null,
   "id": "940567a9",
   "metadata": {},
   "outputs": [],
   "source": []
  }
 ],
 "metadata": {
  "kernelspec": {
   "display_name": "Python 3 (ipykernel)",
   "language": "python",
   "name": "python3"
  },
  "language_info": {
   "codemirror_mode": {
    "name": "ipython",
    "version": 3
   },
   "file_extension": ".py",
   "mimetype": "text/x-python",
   "name": "python",
   "nbconvert_exporter": "python",
   "pygments_lexer": "ipython3",
   "version": "3.9.6"
  }
 },
 "nbformat": 4,
 "nbformat_minor": 5
}
